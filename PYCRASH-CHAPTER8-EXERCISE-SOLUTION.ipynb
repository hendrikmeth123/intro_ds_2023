{
 "cells": [
  {
   "cell_type": "markdown",
   "metadata": {},
   "source": [
    "# Functions\n",
    "T-Shirt Function: Write a function called make_shirt() that accepts a size and the text of a message that should be printed on the shirt. \n",
    "\n",
    "The function should print a sentence summarizing the size of the shirt and the message printed on it.\n",
    "\n",
    "Call the function once using positional arguments to make a shirt. \n",
    "\n",
    "Call the function a second time using keyword arguments."
   ]
  },
  {
   "cell_type": "code",
   "execution_count": 1,
   "metadata": {},
   "outputs": [
    {
     "name": "stdout",
     "output_type": "stream",
     "text": [
      "The size of this shirt is: XL\n",
      "The message on this shirt is: I love this shirt!\n",
      "The size of this shirt is: XL\n",
      "The message on this shirt is: I love this shirt!\n"
     ]
    }
   ],
   "source": [
    "def make_shirt(size,message):\n",
    "    print(\"The size of this shirt is: \"+size)\n",
    "    print(\"The message on this shirt is: \"+message)\n",
    "    \n",
    "make_shirt(\"XL\",\"I love this shirt!\")\n",
    "make_shirt(message=\"I love this shirt!\",size=\"XL\")"
   ]
  },
  {
   "cell_type": "markdown",
   "metadata": {},
   "source": [
    "# Functions with return values\n",
    "Extend your T-shirt function to create and return a dictionary describing one T-Shirt\n",
    "\n",
    "The funtion should again receive the size and the text of a message that should be printed on the shirt. \n",
    "\n",
    "It should return a dictionary containing these two pieces of information. \n",
    "\n",
    "Use the function to make three dictionaries representing different T-shirts\n",
    "\n",
    "Print each return value to show that the dictionaries are storing the T-shirt information correctly."
   ]
  },
  {
   "cell_type": "code",
   "execution_count": 2,
   "metadata": {},
   "outputs": [
    {
     "name": "stdout",
     "output_type": "stream",
     "text": [
      "{'XL': 'I love this shirt!'}\n",
      "{'L': 'You love this shirt!'}\n",
      "{'S': 'We love this shirt!'}\n"
     ]
    }
   ],
   "source": [
    "def make_shirt(size,message):\n",
    "    shirt_dictionary = {size: message}\n",
    "    return shirt_dictionary\n",
    "    \n",
    "shirt= make_shirt(\"XL\",\"I love this shirt!\")\n",
    "print(shirt)\n",
    "\n",
    "shirt= make_shirt(\"L\",\"You love this shirt!\")\n",
    "print(shirt)\n",
    "\n",
    "shirt= make_shirt(\"S\",\"We love this shirt!\")\n",
    "print(shirt)"
   ]
  },
  {
   "cell_type": "markdown",
   "metadata": {},
   "source": [
    "# Functions with lists as parameters\n",
    "Extend your T-shirt function to accept lists of messages to be print on your shirts.\n",
    "\n",
    "All shirts should be manufactured in size \"L\" (as default value)\n",
    "\n",
    "Print the size and message of each T-shirt within your function."
   ]
  },
  {
   "cell_type": "code",
   "execution_count": 3,
   "metadata": {},
   "outputs": [
    {
     "name": "stdout",
     "output_type": "stream",
     "text": [
      "Another T-shirt in size L with message: 'I love this shirt' has been manufactured\n",
      "Another T-shirt in size L with message: 'ACDC' has been manufactured\n",
      "Another T-shirt in size L with message: 'Data Science is fun!' has been manufactured\n"
     ]
    }
   ],
   "source": [
    "def make_shirt(messages,size=\"L\"):\n",
    "    for message in messages:\n",
    "        print(\"Another T-shirt in size \"+str(size)+ \" with message: '\"+str(message)+\"' has been manufactured\")\n",
    "\n",
    "messages=[\"I love this shirt\", \"ACDC\", \"Data Science is fun!\"]\n",
    "make_shirt(messages)"
   ]
  }
 ],
 "metadata": {
  "kernelspec": {
   "display_name": "Python 3 (ipykernel)",
   "language": "python",
   "name": "python3"
  },
  "language_info": {
   "codemirror_mode": {
    "name": "ipython",
    "version": 3
   },
   "file_extension": ".py",
   "mimetype": "text/x-python",
   "name": "python",
   "nbconvert_exporter": "python",
   "pygments_lexer": "ipython3",
   "version": "3.11.4"
  }
 },
 "nbformat": 4,
 "nbformat_minor": 2
}
