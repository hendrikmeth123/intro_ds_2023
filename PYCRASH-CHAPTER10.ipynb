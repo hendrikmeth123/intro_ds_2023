{
 "cells": [
  {
   "cell_type": "markdown",
   "metadata": {},
   "source": [
    "# File Handling in Python"
   ]
  },
  {
   "cell_type": "code",
   "execution_count": 1,
   "metadata": {},
   "outputs": [
    {
     "name": "stdout",
     "output_type": "stream",
     "text": [
      "3.1415926535\n",
      "8979323846\n",
      "2643383279\n",
      "\n"
     ]
    }
   ],
   "source": [
    "#Reading from a File\n",
    "#pi_digits.txt \n",
    "#3.1415926535\n",
    "#8979323846\n",
    "#2643383279\n",
    "\n",
    "#file_dir = 'C:\\\\tmp\\\\python_test_data\\\\'\n",
    "#file_path= file_dir+file_name\n",
    "file_path= 'pi_digits.txt'\n",
    "\n",
    "with open(file_path) as file_object:\n",
    "    contents = file_object.read()\n",
    "    print(contents)"
   ]
  },
  {
   "cell_type": "code",
   "execution_count": 2,
   "metadata": {},
   "outputs": [
    {
     "name": "stdout",
     "output_type": "stream",
     "text": [
      "3.1415926535\n",
      "\n",
      "8979323846\n",
      "\n",
      "2643383279\n",
      "\n"
     ]
    }
   ],
   "source": [
    "#Reading Line by Line\n",
    "filename = 'pi_digits.txt'\n",
    "\n",
    "with open(filename) as file_object:\n",
    "    for line in file_object:\n",
    "        print(line)"
   ]
  },
  {
   "cell_type": "code",
   "execution_count": 3,
   "metadata": {},
   "outputs": [
    {
     "name": "stdout",
     "output_type": "stream",
     "text": [
      "3.1415926535\n",
      "8979323846\n",
      "2643383279\n"
     ]
    }
   ],
   "source": [
    "#Reading Line by Line w/o blank lines\n",
    "with open(filename) as file_object:\n",
    "    for line in file_object:\n",
    "        print(line.rstrip())"
   ]
  },
  {
   "cell_type": "code",
   "execution_count": 4,
   "metadata": {},
   "outputs": [
    {
     "name": "stdout",
     "output_type": "stream",
     "text": [
      "3.1415926535\n",
      "8979323846\n",
      "2643383279\n"
     ]
    }
   ],
   "source": [
    "#Making a List of Lines from a File\n",
    "with open(filename) as file_object:\n",
    "    lines = file_object.readlines()\n",
    "    \n",
    "for line in lines:\n",
    "    print(line.rstrip())"
   ]
  },
  {
   "cell_type": "code",
   "execution_count": 5,
   "metadata": {},
   "outputs": [],
   "source": [
    "#Writing to a File\n",
    "#Writing to an Empty File\n",
    "filename = 'interests.txt'\n",
    "\n",
    "with open(filename, 'w') as file_object:\n",
    "    file_object.write(\"I love chess.\\n\")\n",
    "    file_object.write(\"I love creating new games.\\n\")"
   ]
  },
  {
   "cell_type": "code",
   "execution_count": 6,
   "metadata": {},
   "outputs": [],
   "source": [
    "#Appending a File\n",
    "with open(filename, 'a') as file_object:\n",
    "    file_object.write(\"I also love finding meaning in large datasets.\\n\")\n",
    "    file_object.write(\"I love creating apps that can run in a browser.\\n\")"
   ]
  },
  {
   "cell_type": "code",
   "execution_count": 7,
   "metadata": {},
   "outputs": [],
   "source": [
    "#storing your data using json module\n",
    "#Using json.dump() to store\n",
    "#file_dir = 'C:\\\\tmp\\\\python_test_data\\\\'\n",
    "filename= 'numbers.json'\n",
    "#filename= file_dir+file\n",
    "\n",
    "import json\n",
    "\n",
    "numbers = [2, 3, 5, 7, 11, 13, 17]\n",
    "\n",
    "with open(filename, 'w') as f_obj:\n",
    "    json.dump(numbers, f_obj)"
   ]
  },
  {
   "cell_type": "code",
   "execution_count": 8,
   "metadata": {
    "scrolled": true
   },
   "outputs": [
    {
     "name": "stdout",
     "output_type": "stream",
     "text": [
      "[2, 3, 5, 7, 11, 13, 17]\n"
     ]
    }
   ],
   "source": [
    "#Using json.load() to load\n",
    "import json\n",
    "\n",
    "filename= 'numbers.json'\n",
    "\n",
    "with open(filename) as f_obj:\n",
    "    numbers_from_json = json.load(f_obj)\n",
    "print(numbers_from_json)\n"
   ]
  },
  {
   "cell_type": "code",
   "execution_count": 9,
   "metadata": {},
   "outputs": [
    {
     "name": "stdout",
     "output_type": "stream",
     "text": [
      "{'crust': 'thick', 'toppings': ['mushrooms', 'extra cheese']}\n",
      "...has been written to 'pizza_dic.json'\n",
      "\n",
      "{'crust': 'thick', 'toppings': ['mushrooms', 'extra cheese']}\n",
      "...has been loaded from 'pizza_dic.json'\n"
     ]
    }
   ],
   "source": [
    "#Store and load a dictionary with JSON \n",
    "#file_dir = 'C:\\\\tmp\\\\python_test_data\\\\'\n",
    "filename= 'pizza_dic.json'\n",
    "#filename= file_dir+file\n",
    "\n",
    "import json\n",
    "\n",
    "pizza = {\n",
    "    'crust': 'thick',\n",
    "    'toppings': ['mushrooms', 'extra cheese'],\n",
    "}\n",
    "\n",
    "with open(filename, 'w') as f_obj:\n",
    "    json.dump(pizza, f_obj)\n",
    "print(pizza)\n",
    "print(\"...has been written to 'pizza_dic.json'\\n\")\n",
    "    \n",
    "with open(filename) as f_obj:\n",
    "    pizza_loaded = json.load(f_obj)\n",
    "\n",
    "print(pizza_loaded)\n",
    "print(\"...has been loaded from 'pizza_dic.json'\")"
   ]
  }
 ],
 "metadata": {
  "kernelspec": {
   "display_name": "Python 3 (ipykernel)",
   "language": "python",
   "name": "python3"
  },
  "language_info": {
   "codemirror_mode": {
    "name": "ipython",
    "version": 3
   },
   "file_extension": ".py",
   "mimetype": "text/x-python",
   "name": "python",
   "nbconvert_exporter": "python",
   "pygments_lexer": "ipython3",
   "version": "3.11.4"
  }
 },
 "nbformat": 4,
 "nbformat_minor": 2
}
