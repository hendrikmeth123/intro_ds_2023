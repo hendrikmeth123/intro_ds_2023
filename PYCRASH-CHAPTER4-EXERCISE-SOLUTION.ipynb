{
 "cells": [
  {
   "cell_type": "markdown",
   "metadata": {},
   "source": [
    "# For loops and lists\n",
    "a) Pizzas: Think of at least three kinds of your favorite pizza. \n",
    "\n",
    "Store these pizza names in a list\n",
    "\n",
    "Use a for loop to print the name of each pizza.\n",
    "\n",
    "Modify your for loop to print a sentence using the name of the pizza instead of printing just the name of the pizza. \n",
    "\n",
    "Add a line at the end of your program, outside the for loop, that states how much you like pizza. "
   ]
  },
  {
   "cell_type": "code",
   "execution_count": 1,
   "metadata": {},
   "outputs": [
    {
     "name": "stdout",
     "output_type": "stream",
     "text": [
      "I like Margaritha pizza!\n",
      "I like Funghi pizza!\n",
      "I like 4Stagioni pizza!\n",
      "\n",
      "Yes, I really like pizza!!!\n"
     ]
    }
   ],
   "source": [
    "pizzas = ['Margaritha','Funghi','4Stagioni']\n",
    "for pizza in pizzas:\n",
    "    print(\"I like \"+pizza+\" pizza!\")\n",
    "    \n",
    "print(\"\\nYes, I really like pizza!!!\")"
   ]
  },
  {
   "cell_type": "markdown",
   "metadata": {},
   "source": [
    "b) My Pizzas, Your Pizzas: \n",
    "\n",
    "Make a copy of the list of pizzas, and call it friend_pizzas.\n",
    "\n",
    "Add a new pizza to the original list.\n",
    "\n",
    "Add a different pizza to the list friend_pizzas.\n",
    "\n",
    "Prove that you have two separate lists. Using print statements and for loops"
   ]
  },
  {
   "cell_type": "code",
   "execution_count": 2,
   "metadata": {},
   "outputs": [
    {
     "name": "stdout",
     "output_type": "stream",
     "text": [
      "One of my favorite pizzas is Margaritha pizza\n",
      "One of my favorite pizzas is Funghi pizza\n",
      "One of my favorite pizzas is 4Stagioni pizza\n",
      "One of my favorite pizzas is Salami pizza\n",
      "\n",
      "\n",
      "One of my friend's favorite pizzas is Margaritha pizza\n",
      "One of my friend's favorite pizzas is Funghi pizza\n",
      "One of my friend's favorite pizzas is 4Stagioni pizza\n",
      "One of my friend's favorite pizzas is Caprese pizza\n"
     ]
    }
   ],
   "source": [
    "friend_pizzas = pizzas[:]\n",
    "\n",
    "pizzas.append('Salami')\n",
    "friend_pizzas.append('Caprese')\n",
    "\n",
    "for pizza in pizzas:\n",
    "    print(\"One of my favorite pizzas is \"+pizza+\" pizza\")\n",
    "\n",
    "print(\"\\n\")\n",
    "for pizza in friend_pizzas:\n",
    "    print(\"One of my friend's favorite pizzas is \"+pizza+\" pizza\")"
   ]
  },
  {
   "cell_type": "markdown",
   "metadata": {},
   "source": [
    "c) Linked pizza list: Create a pizza list which is linked to the original list.\n",
    "\n",
    "Prove, that changes to the originl list will also change the linked list and the other way round"
   ]
  },
  {
   "cell_type": "code",
   "execution_count": 3,
   "metadata": {},
   "outputs": [
    {
     "name": "stdout",
     "output_type": "stream",
     "text": [
      "One of my favorite pizzas is Margaritha pizza\n",
      "One of my favorite pizzas is Funghi pizza\n",
      "One of my favorite pizzas is 4Stagioni pizza\n",
      "One of my favorite pizzas is Salami pizza\n",
      "One of my favorite pizzas is White pizza\n",
      "One of my favorite pizzas is Parma pizza\n",
      "\n",
      "\n",
      "One of my linked favorite pizzas is Margaritha pizza\n",
      "One of my linked favorite pizzas is Funghi pizza\n",
      "One of my linked favorite pizzas is 4Stagioni pizza\n",
      "One of my linked favorite pizzas is Salami pizza\n",
      "One of my linked favorite pizzas is White pizza\n",
      "One of my linked favorite pizzas is Parma pizza\n"
     ]
    }
   ],
   "source": [
    "linked_pizza_list = pizzas\n",
    "pizzas.append('White')\n",
    "linked_pizza_list.append('Parma')\n",
    "\n",
    "for pizza in pizzas:\n",
    "    print(\"One of my favorite pizzas is \"+pizza+\" pizza\")\n",
    "\n",
    "print(\"\\n\")\n",
    "for pizza in linked_pizza_list:\n",
    "    print(\"One of my linked favorite pizzas is \"+pizza+\" pizza\")"
   ]
  },
  {
   "cell_type": "markdown",
   "metadata": {},
   "source": [
    "Threes: \n",
    "\n",
    "Make a list of the multiples of 3 from 3 to 30. \n",
    "\n",
    "Use a for loop to print the numbers in your list.\n",
    "\n",
    "Print min, max and sum of your list\n",
    "\n",
    "Use a for loop to print the second half of your list\n"
   ]
  },
  {
   "cell_type": "code",
   "execution_count": 4,
   "metadata": {},
   "outputs": [
    {
     "name": "stdout",
     "output_type": "stream",
     "text": [
      "[3, 6, 9, 12, 15, 18, 21, 24, 27, 30]\n",
      "3\n",
      "6\n",
      "9\n",
      "12\n",
      "15\n",
      "18\n",
      "21\n",
      "24\n",
      "27\n",
      "30\n",
      "min: 3\n",
      "max: 30\n",
      "sum: 165\n",
      "18\n",
      "21\n",
      "24\n",
      "27\n",
      "30\n"
     ]
    }
   ],
   "source": [
    "threes=list(range(3,33,3))\n",
    "print(threes)\n",
    "\n",
    "for number in threes:\n",
    "    print(number)\n",
    "    \n",
    "print(\"min: \"+str(min(threes)))\n",
    "print(\"max: \"+str(max(threes)))\n",
    "print(\"sum: \"+str(sum(threes)))\n",
    "\n",
    "for number in threes[5:]:\n",
    "    print(number)"
   ]
  }
 ],
 "metadata": {
  "kernelspec": {
   "display_name": "Python 3 (ipykernel)",
   "language": "python",
   "name": "python3"
  },
  "language_info": {
   "codemirror_mode": {
    "name": "ipython",
    "version": 3
   },
   "file_extension": ".py",
   "mimetype": "text/x-python",
   "name": "python",
   "nbconvert_exporter": "python",
   "pygments_lexer": "ipython3",
   "version": "3.11.4"
  }
 },
 "nbformat": 4,
 "nbformat_minor": 2
}
