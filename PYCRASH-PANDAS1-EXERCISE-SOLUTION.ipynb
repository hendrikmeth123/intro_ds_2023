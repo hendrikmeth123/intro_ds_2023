{
 "cells": [
  {
   "cell_type": "markdown",
   "metadata": {},
   "source": [
    "Student DB: Create a PANDAS dataframe for a university database holding student information\n",
    "\n",
    "The database should contain the student's ID, name, field of study and number of semesters\n",
    "\n",
    "Print your data frame"
   ]
  },
  {
   "cell_type": "code",
   "execution_count": 1,
   "metadata": {},
   "outputs": [
    {
     "data": {
      "text/html": [
       "<div>\n",
       "<style scoped>\n",
       "    .dataframe tbody tr th:only-of-type {\n",
       "        vertical-align: middle;\n",
       "    }\n",
       "\n",
       "    .dataframe tbody tr th {\n",
       "        vertical-align: top;\n",
       "    }\n",
       "\n",
       "    .dataframe thead th {\n",
       "        text-align: right;\n",
       "    }\n",
       "</style>\n",
       "<table border=\"1\" class=\"dataframe\">\n",
       "  <thead>\n",
       "    <tr style=\"text-align: right;\">\n",
       "      <th></th>\n",
       "      <th>ID</th>\n",
       "      <th>Name</th>\n",
       "      <th>FoS</th>\n",
       "      <th>Semesters</th>\n",
       "    </tr>\n",
       "  </thead>\n",
       "  <tbody>\n",
       "    <tr>\n",
       "      <th>ID1</th>\n",
       "      <td>100112</td>\n",
       "      <td>Jim Collins</td>\n",
       "      <td>Wifo</td>\n",
       "      <td>4</td>\n",
       "    </tr>\n",
       "    <tr>\n",
       "      <th>ID2</th>\n",
       "      <td>120095</td>\n",
       "      <td>Martin Schrader</td>\n",
       "      <td>Wifo</td>\n",
       "      <td>7</td>\n",
       "    </tr>\n",
       "    <tr>\n",
       "      <th>ID3</th>\n",
       "      <td>180331</td>\n",
       "      <td>Achim Zahn</td>\n",
       "      <td>OMM</td>\n",
       "      <td>1</td>\n",
       "    </tr>\n",
       "  </tbody>\n",
       "</table>\n",
       "</div>"
      ],
      "text/plain": [
       "         ID             Name   FoS  Semesters\n",
       "ID1  100112      Jim Collins  Wifo          4\n",
       "ID2  120095  Martin Schrader  Wifo          7\n",
       "ID3  180331       Achim Zahn   OMM          1"
      ]
     },
     "execution_count": 1,
     "metadata": {},
     "output_type": "execute_result"
    }
   ],
   "source": [
    "#PANDAS Data Frames\n",
    "import pandas as pd\n",
    "\n",
    "list_2dim = [[100112,\"Jim Collins\",\"Wifo\",4],[120095,\"Martin Schrader\",\"Wifo\",7],[180331,\"Achim Zahn\",\"OMM\",1]]\n",
    "\n",
    "df = pd.DataFrame(list_2dim,index=['ID1','ID2','ID3'],columns=['ID','Name','FoS','Semesters'])\n",
    "df\n"
   ]
  },
  {
   "cell_type": "markdown",
   "metadata": {},
   "source": [
    "Perform the following operations on your data frame and check the result:\n",
    "- Select columns \"ID\" and \"Name\"\n",
    "- Create a new column adding one semester to the existing number of semesters\n",
    "- Permanently drop the new column again"
   ]
  },
  {
   "cell_type": "code",
   "execution_count": 2,
   "metadata": {},
   "outputs": [
    {
     "name": "stdout",
     "output_type": "stream",
     "text": [
      "         ID             Name\n",
      "ID1  100112      Jim Collins\n",
      "ID2  120095  Martin Schrader\n",
      "ID3  180331       Achim Zahn\n",
      "\n",
      "\n",
      "         ID             Name   FoS  Semesters  Semesters+1\n",
      "ID1  100112      Jim Collins  Wifo          4            5\n",
      "ID2  120095  Martin Schrader  Wifo          7            8\n",
      "ID3  180331       Achim Zahn   OMM          1            2\n",
      "\n",
      "\n",
      "         ID             Name   FoS  Semesters\n",
      "ID1  100112      Jim Collins  Wifo          4\n",
      "ID2  120095  Martin Schrader  Wifo          7\n",
      "ID3  180331       Achim Zahn   OMM          1\n"
     ]
    }
   ],
   "source": [
    "#Select columns \"ID\" and \"Name\"\n",
    "print(df[['ID','Name']])\n",
    "print(\"\\n\")\n",
    "\n",
    "#Create a new column adding one semester to the existing number of semesters\n",
    "df['Semesters+1']=df['Semesters']+1\n",
    "print(df)\n",
    "print(\"\\n\")\n",
    "\n",
    "#Permanently drop the new column again\n",
    "df.drop('Semesters+1',axis=1,inplace=True)\n",
    "print(df)"
   ]
  },
  {
   "cell_type": "markdown",
   "metadata": {},
   "source": [
    "Perform the following operations on your data frame and check the result:\n",
    "- Select all columns for one specific student\n",
    "- Show the name of all students in a specific semester (without directly selecting one row)"
   ]
  },
  {
   "cell_type": "code",
   "execution_count": 3,
   "metadata": {},
   "outputs": [
    {
     "name": "stdout",
     "output_type": "stream",
     "text": [
      "ID                    120095\n",
      "Name         Martin Schrader\n",
      "FoS                     Wifo\n",
      "Semesters                  7\n",
      "Name: ID2, dtype: object\n",
      "\n",
      "\n",
      "ID1    False\n",
      "ID2    False\n",
      "ID3     True\n",
      "Name: Semesters, dtype: bool\n",
      "ID3    Achim Zahn\n",
      "Name: Name, dtype: object\n"
     ]
    }
   ],
   "source": [
    "#Select all columns for one specific student\n",
    "print(df.loc['ID2'])\n",
    "\n",
    "#Show the name of all students in a specific semester (without directly selecting one row)\n",
    "print(\"\\n\")\n",
    "print(df['Semesters']==1)\n",
    "#...and now the name\n",
    "print(df[df['Semesters']==1]['Name'])"
   ]
  }
 ],
 "metadata": {
  "kernelspec": {
   "display_name": "Python 3 (ipykernel)",
   "language": "python",
   "name": "python3"
  },
  "language_info": {
   "codemirror_mode": {
    "name": "ipython",
    "version": 3
   },
   "file_extension": ".py",
   "mimetype": "text/x-python",
   "name": "python",
   "nbconvert_exporter": "python",
   "pygments_lexer": "ipython3",
   "version": "3.11.4"
  }
 },
 "nbformat": 4,
 "nbformat_minor": 2
}
