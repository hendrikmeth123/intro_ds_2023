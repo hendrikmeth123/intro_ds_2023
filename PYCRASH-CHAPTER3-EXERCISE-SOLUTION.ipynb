{
 "cells": [
  {
   "cell_type": "markdown",
   "metadata": {},
   "source": [
    "# Create a guest list\n",
    "\n",
    "a) Guest List: If you could invite anyone, living or deceased, to dinner, who\n",
    "would you invite? Make a list that includes at least three people you’d like to\n",
    "invite to dinner. Then use your list to print a message to each person, inviting\n",
    "them to dinner."
   ]
  },
  {
   "cell_type": "code",
   "execution_count": 1,
   "metadata": {},
   "outputs": [
    {
     "name": "stdout",
     "output_type": "stream",
     "text": [
      "Dear Dave Scott you are invited to my dinner party\n",
      "Dear Albert Einstein you are invited to my dinner party\n",
      "Dear Jerry Seinfeld you are invited to my dinner party\n"
     ]
    }
   ],
   "source": [
    "guest_list = ['Dave Scott', 'Albert Einstein', 'Jerry Seinfeld']\n",
    "\n",
    "print(\"Dear \" + guest_list[0] + \" you are invited to my dinner party\")\n",
    "print(\"Dear \" + guest_list[1] + \" you are invited to my dinner party\")\n",
    "print(\"Dear \" + guest_list[2] + \" you are invited to my dinner party\")"
   ]
  },
  {
   "cell_type": "markdown",
   "metadata": {},
   "source": [
    "b) Changing Guest List: You just heard that one of your guests can’t make the\n",
    "dinner, so you need to send out a new set of invitations. You’ll have to think of\n",
    "someone else to invite.\n",
    "\n",
    "Start with your initial guest list. Add a print statement at the\n",
    "end of your program stating the name of the guest who can’t make it.\n",
    "\n",
    "Modify your list, replacing the name of the guest who can’t make it with\n",
    "the name of the new person you are inviting.\n",
    "\n",
    "Print a second set of invitation messages, one for each person who is still\n",
    "in your list."
   ]
  },
  {
   "cell_type": "code",
   "execution_count": 2,
   "metadata": {},
   "outputs": [
    {
     "name": "stdout",
     "output_type": "stream",
     "text": [
      "Dave Scott cannot make it to the dinner!\n",
      "Dear Thomas Gottschalk you are invited to my dinner party\n",
      "Dear Albert Einstein you are invited to my dinner party\n",
      "Dear Jerry Seinfeld you are invited to my dinner party\n"
     ]
    }
   ],
   "source": [
    "print(\"Dave Scott cannot make it to the dinner!\")\n",
    "\n",
    "guest_list[0] = 'Thomas Gottschalk'\n",
    "\n",
    "print(\"Dear \" + guest_list[0] + \" you are invited to my dinner party\")\n",
    "print(\"Dear \" + guest_list[1] + \" you are invited to my dinner party\")\n",
    "print(\"Dear \" + guest_list[2] + \" you are invited to my dinner party\")"
   ]
  },
  {
   "cell_type": "markdown",
   "metadata": {},
   "source": [
    "c) More Guests: You just found a bigger dinner table, so now more space is\n",
    "available. Think of three more guests to invite to dinner.\n",
    "\n",
    "Add a print statement to the end of your program informing people that you found a bigger dinner table.\n",
    "\n",
    "Use insert() to add one new guest to the beginning of your list.\n",
    "\n",
    "Use insert() to add one new guest to the middle of your list.\n",
    "\n",
    "Use append() to add one new guest to the end of your list.\n",
    "\n",
    "Print a new set of invitation messages, one for each person in your list"
   ]
  },
  {
   "cell_type": "code",
   "execution_count": 3,
   "metadata": {},
   "outputs": [
    {
     "name": "stdout",
     "output_type": "stream",
     "text": [
      "I found a bigger dinner table!\n",
      "Dear John Wayne you are invited to my dinner party\n",
      "Dear Thomas Gottschalk you are invited to my dinner party\n",
      "Dear Marylin Monroe you are invited to my dinner party\n",
      "Dear Albert Einstein you are invited to my dinner party\n",
      "Dear Jerry Seinfeld you are invited to my dinner party\n",
      "Dear Jim Collins you are invited to my dinner party\n"
     ]
    }
   ],
   "source": [
    "print(\"I found a bigger dinner table!\")\n",
    "\n",
    "guest_list.insert(0,'John Wayne')\n",
    "guest_list.insert(2,'Marylin Monroe')\n",
    "guest_list.append('Jim Collins')\n",
    "\n",
    "print(\"Dear \" + guest_list[0] + \" you are invited to my dinner party\")\n",
    "print(\"Dear \" + guest_list[1] + \" you are invited to my dinner party\")\n",
    "print(\"Dear \" + guest_list[2] + \" you are invited to my dinner party\")\n",
    "print(\"Dear \" + guest_list[3] + \" you are invited to my dinner party\")\n",
    "print(\"Dear \" + guest_list[4] + \" you are invited to my dinner party\")\n",
    "print(\"Dear \" + guest_list[5] + \" you are invited to my dinner party\")"
   ]
  }
 ],
 "metadata": {
  "kernelspec": {
   "display_name": "Python 3 (ipykernel)",
   "language": "python",
   "name": "python3"
  },
  "language_info": {
   "codemirror_mode": {
    "name": "ipython",
    "version": 3
   },
   "file_extension": ".py",
   "mimetype": "text/x-python",
   "name": "python",
   "nbconvert_exporter": "python",
   "pygments_lexer": "ipython3",
   "version": "3.11.4"
  }
 },
 "nbformat": 4,
 "nbformat_minor": 2
}
