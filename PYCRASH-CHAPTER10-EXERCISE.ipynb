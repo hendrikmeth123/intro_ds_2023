{
 "cells": [
  {
   "cell_type": "markdown",
   "metadata": {},
   "source": [
    "Learning Python: Open a blank file in your text editor and write a few lines summarizing what you’ve learned about Python so far. \n",
    "\n",
    "Start each line with the phrase \"In Python you can....\" \n",
    "\n",
    "Save the file as learning_python.txt in the same directory as your exercises from this chapter\n",
    "\n",
    "Write a program that reads the file and prints what you wrote three times\n",
    "\n",
    "Print the contents \n",
    "- once by reading in the entire file\n",
    "- once by looping over the file object\n",
    "- once by storing the lines in a list and then working with them outside the with block."
   ]
  },
  {
   "cell_type": "code",
   "execution_count": null,
   "metadata": {},
   "outputs": [],
   "source": []
  },
  {
   "cell_type": "markdown",
   "metadata": {},
   "source": [
    "Favorite Ice creams: Write your favorite ice creams into a list. \n",
    "\n",
    "Use json.dump() to store the list in a file. \n",
    "\n",
    "Reads in the ice creams from the json file into a different list variable\n",
    "\n",
    "Print the message, “I know your favorite ice creams! They are....”"
   ]
  },
  {
   "cell_type": "code",
   "execution_count": null,
   "metadata": {},
   "outputs": [],
   "source": []
  }
 ],
 "metadata": {
  "kernelspec": {
   "display_name": "Python 3 (ipykernel)",
   "language": "python",
   "name": "python3"
  },
  "language_info": {
   "codemirror_mode": {
    "name": "ipython",
    "version": 3
   },
   "file_extension": ".py",
   "mimetype": "text/x-python",
   "name": "python",
   "nbconvert_exporter": "python",
   "pygments_lexer": "ipython3",
   "version": "3.9.7"
  }
 },
 "nbformat": 4,
 "nbformat_minor": 2
}
