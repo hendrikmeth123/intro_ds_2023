{
 "cells": [
  {
   "cell_type": "markdown",
   "metadata": {},
   "source": [
    "# Dictionaries\n",
    "Favorite Numbers: Use a dictionary to store people’s favorite numbers.\n",
    "\n",
    "Think of five names, and use them as keys in your dictionary. \n",
    "\n",
    "Think of a favorite number for each person, and store each as a value in your dictionary. \n",
    "\n",
    "Select one person and print this person's name and favorite number."
   ]
  },
  {
   "cell_type": "code",
   "execution_count": 1,
   "metadata": {},
   "outputs": [
    {
     "name": "stdout",
     "output_type": "stream",
     "text": [
      "Norbert's favorite number is: 68\n"
     ]
    }
   ],
   "source": [
    "favorite_numbers = {'Michael': 17,\n",
    "                   'Andrea': 5,\n",
    "                   'Norbert': 68,\n",
    "                   'Karin':44,\n",
    "                   'Verena': 72}\n",
    "\n",
    "print(\"Norbert's favorite number is: \"+str(favorite_numbers['Norbert']))"
   ]
  },
  {
   "cell_type": "markdown",
   "metadata": {},
   "source": [
    "# Dictionaries and for loops\n",
    "Now print each person's name and favorite number using a for loop"
   ]
  },
  {
   "cell_type": "code",
   "execution_count": 2,
   "metadata": {},
   "outputs": [
    {
     "name": "stdout",
     "output_type": "stream",
     "text": [
      "Michael's favorite number is: 17\n",
      "Andrea's favorite number is: 5\n",
      "Norbert's favorite number is: 68\n",
      "Karin's favorite number is: 44\n",
      "Verena's favorite number is: 72\n"
     ]
    }
   ],
   "source": [
    "for name, number in favorite_numbers.items():\n",
    "    print(str(name)+\"'s favorite number is: \"+str(number))\n",
    "    "
   ]
  },
  {
   "cell_type": "markdown",
   "metadata": {},
   "source": [
    "# Nested dictionaries\n",
    "Redefine your dictionary in a way that each person can have multiple favorite numbers\n",
    "\n",
    "Print each person's name and their favorite numbers using nested for loops"
   ]
  },
  {
   "cell_type": "code",
   "execution_count": 3,
   "metadata": {},
   "outputs": [
    {
     "name": "stdout",
     "output_type": "stream",
     "text": [
      "\n",
      "Michael's favorite numbers are: \n",
      "2\n",
      "17\n",
      "\n",
      "Andrea's favorite numbers are: \n",
      "5\n",
      "\n",
      "Norbert's favorite numbers are: \n",
      "68\n",
      "99\n",
      "\n",
      "Karin's favorite numbers are: \n",
      "44\n",
      "11\n",
      "\n",
      "Verena's favorite numbers are: \n",
      "9\n",
      "72\n",
      "17\n"
     ]
    }
   ],
   "source": [
    "favorite_numbers = {'Michael': [2,17],\n",
    "                   'Andrea': [5],\n",
    "                   'Norbert': [68,99],\n",
    "                   'Karin':[44,11],\n",
    "                   'Verena': [9,72,17]}\n",
    "\n",
    "for name, numbers in favorite_numbers.items():\n",
    "    print(\"\\n\"+str(name)+\"'s favorite numbers are: \")\n",
    "    for number in numbers:\n",
    "        print(number)\n",
    "    "
   ]
  }
 ],
 "metadata": {
  "kernelspec": {
   "display_name": "Python 3 (ipykernel)",
   "language": "python",
   "name": "python3"
  },
  "language_info": {
   "codemirror_mode": {
    "name": "ipython",
    "version": 3
   },
   "file_extension": ".py",
   "mimetype": "text/x-python",
   "name": "python",
   "nbconvert_exporter": "python",
   "pygments_lexer": "ipython3",
   "version": "3.11.4"
  }
 },
 "nbformat": 4,
 "nbformat_minor": 2
}
