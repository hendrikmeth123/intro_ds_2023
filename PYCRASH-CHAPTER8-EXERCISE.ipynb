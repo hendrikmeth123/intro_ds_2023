{
 "cells": [
  {
   "cell_type": "markdown",
   "metadata": {},
   "source": [
    "# Functions\n",
    "T-Shirt Function: Write a function called make_shirt() that accepts a size and the text of a message that should be printed on the shirt. \n",
    "\n",
    "The function should print a sentence summarizing the size of the shirt and the message printed on it.\n",
    "\n",
    "Call the function once using positional arguments to make a shirt. \n",
    "\n",
    "Call the function a second time using keyword arguments."
   ]
  },
  {
   "cell_type": "code",
   "execution_count": null,
   "metadata": {},
   "outputs": [],
   "source": []
  },
  {
   "cell_type": "markdown",
   "metadata": {},
   "source": [
    "# Functions with return values\n",
    "Extend your T-shirt function to create and return a dictionary describin one T-Shirt\n",
    "\n",
    "The funtion should again receive the size and the text of a message that should be printed on the shirt. \n",
    "\n",
    "It should return a dictionary containing these two pieces of information. \n",
    "\n",
    "Use the function to make three dictionaries representing different T-shirts\n",
    "\n",
    "Print each return value to show that the dictionaries are storing the T-shirt information correctly."
   ]
  },
  {
   "cell_type": "code",
   "execution_count": null,
   "metadata": {},
   "outputs": [],
   "source": []
  },
  {
   "cell_type": "markdown",
   "metadata": {},
   "source": [
    "# Functions with lists as parameters\n",
    "Extend your T-shirt function to accept lists of messages to be print on your shirts.\n",
    "\n",
    "All shirts should be manufactured in size \"L\" (as default value)\n",
    "\n",
    "Print the size and message of each T-shirt within your function."
   ]
  },
  {
   "cell_type": "code",
   "execution_count": null,
   "metadata": {},
   "outputs": [],
   "source": []
  }
 ],
 "metadata": {
  "kernelspec": {
   "display_name": "Python 3 (ipykernel)",
   "language": "python",
   "name": "python3"
  },
  "language_info": {
   "codemirror_mode": {
    "name": "ipython",
    "version": 3
   },
   "file_extension": ".py",
   "mimetype": "text/x-python",
   "name": "python",
   "nbconvert_exporter": "python",
   "pygments_lexer": "ipython3",
   "version": "3.9.7"
  }
 },
 "nbformat": 4,
 "nbformat_minor": 2
}
