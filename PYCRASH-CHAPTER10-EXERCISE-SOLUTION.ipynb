{
 "cells": [
  {
   "cell_type": "markdown",
   "metadata": {},
   "source": [
    "Learning Python: Open a blank file in your text editor and write a few lines summarizing what you’ve learned about Python so far. \n",
    "\n",
    "Start each line with the phrase \"In Python you can....\" \n",
    "\n",
    "Save the file as learning_python.txt in the same directory as your exercises from this chapter\n",
    "\n",
    "Write a program that reads the file and prints what you wrote three times\n",
    "\n",
    "Print the contents \n",
    "- once by reading in the entire file\n",
    "- once by looping over the file object\n",
    "- once by storing the lines in a list and then working with them outside the with block."
   ]
  },
  {
   "cell_type": "code",
   "execution_count": 1,
   "metadata": {},
   "outputs": [
    {
     "name": "stdout",
     "output_type": "stream",
     "text": [
      "In Python you can easily read from files\n",
      "In Python you can use object-oriented programming\n",
      "In Python you can implement machine learning models\n",
      "\n",
      "\n",
      "In Python you can easily read from files\n",
      "\n",
      "In Python you can use object-oriented programming\n",
      "\n",
      "In Python you can implement machine learning models\n",
      "\n",
      "\n",
      "In Python you can easily read from files\n",
      "In Python you can use object-oriented programming\n",
      "In Python you can implement machine learning models\n"
     ]
    }
   ],
   "source": [
    "file_path= 'learning_python.txt'\n",
    "\n",
    "# reading in the entire file\n",
    "with open(file_path) as file_object:\n",
    "    contents = file_object.read()\n",
    "    print(contents)\n",
    "\n",
    "print(\"\\n\")\n",
    "# looping over the file object\n",
    "with open(file_path) as file_object:\n",
    "    for line in file_object:\n",
    "        print(line)\n",
    "\n",
    "print(\"\\n\")\n",
    "# storing the lines in a list and then working with them outside the with block.\n",
    "with open(file_path) as file_object:\n",
    "    lines = file_object.readlines()\n",
    "    \n",
    "for line in lines:\n",
    "    print(line.rstrip())"
   ]
  },
  {
   "cell_type": "markdown",
   "metadata": {},
   "source": [
    "Favorite Ice creams: Write your favorite ice creams into a list. \n",
    "\n",
    "Use json.dump() to store the list in a file. \n",
    "\n",
    "Reads in the ice creams from the json file into a different list variable\n",
    "\n",
    "Print the message, “I know your favorite ice creams! They are....”"
   ]
  },
  {
   "cell_type": "code",
   "execution_count": 2,
   "metadata": {},
   "outputs": [
    {
     "name": "stdout",
     "output_type": "stream",
     "text": [
      "I know your favorite ice creams! They are....\n",
      "Vanilla\n",
      "Lemon\n",
      "Pistaccio\n"
     ]
    }
   ],
   "source": [
    "filename= 'favorite_icecreams.json'\n",
    "\n",
    "import json\n",
    "\n",
    "my_favorite_icecreams = ['Vanilla','Lemon','Pistaccio']\n",
    "\n",
    "with open(filename, 'w') as f_obj:\n",
    "    json.dump(my_favorite_icecreams, f_obj)\n",
    "    \n",
    "with open(filename) as f_obj:\n",
    "    your_favorite_icecreams = json.load(f_obj)\n",
    "\n",
    "print(\"I know your favorite ice creams! They are....\")\n",
    "for your_favorite_icecream in your_favorite_icecreams:\n",
    "    print(your_favorite_icecream)"
   ]
  }
 ],
 "metadata": {
  "kernelspec": {
   "display_name": "Python 3 (ipykernel)",
   "language": "python",
   "name": "python3"
  },
  "language_info": {
   "codemirror_mode": {
    "name": "ipython",
    "version": 3
   },
   "file_extension": ".py",
   "mimetype": "text/x-python",
   "name": "python",
   "nbconvert_exporter": "python",
   "pygments_lexer": "ipython3",
   "version": "3.11.4"
  }
 },
 "nbformat": 4,
 "nbformat_minor": 2
}
