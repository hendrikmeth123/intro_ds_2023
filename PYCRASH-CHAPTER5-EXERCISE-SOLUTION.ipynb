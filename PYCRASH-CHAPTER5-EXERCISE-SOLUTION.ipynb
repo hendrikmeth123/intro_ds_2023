{
 "cells": [
  {
   "cell_type": "markdown",
   "metadata": {},
   "source": [
    "# If statements\n",
    "Stages of Life: Write an if-elif-else chain that determines a person’s stage of life. \n",
    "\n",
    "Set a value for the variable age, and then:\n",
    "\n",
    "If the person is less than 2 years old, print a message that the person is a baby.\n",
    "\n",
    "If the person is at least 2 years old but less than 4, print a message that the person is a toddler\n",
    "\n",
    "If the person is at least 4 years old but less than 13, print a message that the person is a kid.\n",
    "\n",
    "If the person is at least 13 years old but less than 20, print a message that the person is a teenager.\n",
    "\n",
    "If the person is at least 20 years old but less than 65, print a message that the person is an adult.\n",
    "\n",
    "If the person is age 65 or older, print a message that the person is an elder."
   ]
  },
  {
   "cell_type": "code",
   "execution_count": 1,
   "metadata": {},
   "outputs": [
    {
     "name": "stdout",
     "output_type": "stream",
     "text": [
      "you are an elder\n"
     ]
    }
   ],
   "source": [
    "age = 170\n",
    "if age < 2:\n",
    "    print(\"you are a baby\")\n",
    "elif age < 4:\n",
    "    print(\"you are a toddler\")\n",
    "elif age < 13:\n",
    "    print(\"you are a kid\")\n",
    "elif age < 20:\n",
    "    print(\"you are a teenager\")\n",
    "elif age < 65:\n",
    "    print(\"you are an adult\")\n",
    "else:\n",
    "    print(\"you are an elder\")"
   ]
  },
  {
   "cell_type": "markdown",
   "metadata": {},
   "source": [
    "# If statements with lists\n",
    "Checking Usernames: Do the following to create a program that simulates how websites ensure that everyone has a unique username.\n",
    "\n",
    "Make a list of five or more usernames called current_users.\n",
    "\n",
    "Make another list of five usernames called new_users. Make sure one or two of the new usernames are also in the current_users list.\n",
    "\n",
    "Loop through the new_users list to see if each new username has already been used. \n",
    "\n",
    "If it has, print a message that the person will need to enter a new username. \n",
    "\n",
    "If a username has not been used, print a message saying that the username is available.\n",
    "\n",
    "Make sure your comparison is case insensitive. If 'John' has been used, 'JOHN' should not be accepted."
   ]
  },
  {
   "cell_type": "code",
   "execution_count": 2,
   "metadata": {},
   "outputs": [
    {
     "name": "stdout",
     "output_type": "stream",
     "text": [
      "Mike has already been used as a username\n",
      "JOHN has already been used as a username\n",
      "Andrea is available as a username\n",
      "Sabina is available as a username\n",
      "Tim is available as a username\n"
     ]
    }
   ],
   "source": [
    "current_users = ['Mike','John','Andeas','Sabine','Timo']\n",
    "new_users = ['Mike','JOHN','Andrea','Sabina','Tim']\n",
    "\n",
    "current_users_lower=[]\n",
    "for current_user in current_users:\n",
    "    current_users_lower.append(current_user.lower())\n",
    "\n",
    "for new_user in new_users:\n",
    "    if new_user.lower() in current_users_lower:\n",
    "        print(new_user+\" has already been used as a username\")\n",
    "    else:\n",
    "        print(new_user+\" is available as a username\")        "
   ]
  }
 ],
 "metadata": {
  "kernelspec": {
   "display_name": "Python 3 (ipykernel)",
   "language": "python",
   "name": "python3"
  },
  "language_info": {
   "codemirror_mode": {
    "name": "ipython",
    "version": 3
   },
   "file_extension": ".py",
   "mimetype": "text/x-python",
   "name": "python",
   "nbconvert_exporter": "python",
   "pygments_lexer": "ipython3",
   "version": "3.11.4"
  }
 },
 "nbformat": 4,
 "nbformat_minor": 2
}
