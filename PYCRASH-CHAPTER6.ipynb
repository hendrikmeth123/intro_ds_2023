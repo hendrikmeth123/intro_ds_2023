{
 "cells": [
  {
   "cell_type": "code",
   "execution_count": 1,
   "metadata": {},
   "outputs": [
    {
     "name": "stdout",
     "output_type": "stream",
     "text": [
      "Stuttgart\n",
      "5\n"
     ]
    }
   ],
   "source": [
    "#dictionaries : A dictionary in Python is a collection of key-value pairs.\n",
    "#comparable to hash maps in Java\n",
    "#create and access dictionaries\n",
    "\n",
    "customer_0 = {'city': 'Stuttgart', 'points': 5}\n",
    "#use braces {,} to wrap dictionaries\n",
    "\n",
    "print(customer_0['city'])\n",
    "print(customer_0['points'])"
   ]
  },
  {
   "cell_type": "code",
   "execution_count": 2,
   "metadata": {},
   "outputs": [
    {
     "name": "stdout",
     "output_type": "stream",
     "text": [
      "{'city': 'Stuttgart', 'points': 5, 'profit_last_month': 0, 'profit_last_year': 25}\n"
     ]
    }
   ],
   "source": [
    "#Adding New Key-Value Pairs\n",
    "customer_0['profit_last_month'] = 0\n",
    "customer_0['profit_last_year'] = 25\n",
    "print(customer_0)"
   ]
  },
  {
   "cell_type": "code",
   "execution_count": 3,
   "metadata": {},
   "outputs": [
    {
     "name": "stdout",
     "output_type": "stream",
     "text": [
      "{'profit_last_month': 10, 'profit_last_year': 135}\n"
     ]
    }
   ],
   "source": [
    "#Create dictionary from scratch\n",
    "customer_1 = {}\n",
    "\n",
    "customer_1['profit_last_month'] = 10\n",
    "customer_1['profit_last_year'] = 135\n",
    "print(customer_1)"
   ]
  },
  {
   "cell_type": "code",
   "execution_count": 4,
   "metadata": {},
   "outputs": [
    {
     "name": "stdout",
     "output_type": "stream",
     "text": [
      "The customer lives in München\n",
      "The customer now lives in Stuttgart\n"
     ]
    }
   ],
   "source": [
    "#Modifying Values in a Dictionary\n",
    "customer_1 = {'city' : 'München'}\n",
    "print(\"The customer lives in \" + customer_1['city'])\n",
    "\n",
    "customer_1['city'] = 'Stuttgart'\n",
    "print(\"The customer now lives in \" + customer_1['city'])"
   ]
  },
  {
   "cell_type": "code",
   "execution_count": 5,
   "metadata": {},
   "outputs": [
    {
     "name": "stdout",
     "output_type": "stream",
     "text": [
      "{'city': 'Stuttgart', 'ID': 1000, 'profit_last_year': 25}\n",
      "{'ID': 1000, 'profit_last_year': 25}\n"
     ]
    }
   ],
   "source": [
    "#Removing Key-Value Pairs\n",
    "customer_1['ID'] = 1000\n",
    "customer_1['profit_last_year'] = 25\n",
    "print(customer_1)\n",
    "\n",
    "del customer_1['city']\n",
    "print(customer_1)\n"
   ]
  },
  {
   "cell_type": "code",
   "execution_count": 6,
   "metadata": {},
   "outputs": [
    {
     "name": "stdout",
     "output_type": "stream",
     "text": [
      "{'jen': 'python', 'sarah': 'c', 'edward': 'ruby', 'phil': 'python'}\n",
      "\n",
      "Sarah's favorite language is C.\n"
     ]
    }
   ],
   "source": [
    "#A Dictionary of Similar Objects\n",
    "favorite_languages = {\n",
    "'jen': 'python',\n",
    "'sarah': 'c',\n",
    "'edward': 'ruby',\n",
    "'phil': 'python',\n",
    "}\n",
    "\n",
    "print(favorite_languages)\n",
    "\n",
    "print(\"\\nSarah's favorite language is \" +\n",
    "      favorite_languages['sarah'].title() + \".\")"
   ]
  },
  {
   "cell_type": "code",
   "execution_count": 7,
   "metadata": {},
   "outputs": [
    {
     "name": "stdout",
     "output_type": "stream",
     "text": [
      "\n",
      "Name: Jen\n",
      "Language: Python\n",
      "\n",
      "Name: Sarah\n",
      "Language: C\n",
      "\n",
      "Name: Edward\n",
      "Language: Ruby\n",
      "\n",
      "Name: Phil\n",
      "Language: Python\n"
     ]
    }
   ],
   "source": [
    "#Looping Through a Dictionary\n",
    "#name = key // language = value\n",
    "for name, language in favorite_languages.items():\n",
    "    print(\"\\nName: \" + name.title())\n",
    "    print(\"Language: \" + language.title())"
   ]
  },
  {
   "cell_type": "code",
   "execution_count": 8,
   "metadata": {},
   "outputs": [
    {
     "name": "stdout",
     "output_type": "stream",
     "text": [
      "\n",
      "Name: Jen\n",
      "\n",
      "Name: Sarah\n",
      "\n",
      "Name: Edward\n",
      "\n",
      "Name: Phil\n"
     ]
    }
   ],
   "source": [
    "#Looping Through a Dictionary - only keys\n",
    "for name in favorite_languages.keys():\n",
    "    print(\"\\nName: \" + name.title())"
   ]
  },
  {
   "cell_type": "code",
   "execution_count": 9,
   "metadata": {},
   "outputs": [
    {
     "name": "stdout",
     "output_type": "stream",
     "text": [
      "\n",
      "Language: Python\n",
      "\n",
      "Language: C\n",
      "\n",
      "Language: Ruby\n",
      "\n",
      "Language: Python\n"
     ]
    }
   ],
   "source": [
    "#Looping Through a Dictionary - only values\n",
    "for language in favorite_languages.values():\n",
    "    print(\"\\nLanguage: \" + language.title())"
   ]
  },
  {
   "cell_type": "code",
   "execution_count": 10,
   "metadata": {},
   "outputs": [
    {
     "name": "stdout",
     "output_type": "stream",
     "text": [
      "{'city': 'Stuttgart', 'points': 5}\n",
      "{'city': 'Basel', 'points': 7}\n",
      "{'city': 'Stuttgart', 'points': 3}\n"
     ]
    }
   ],
   "source": [
    "#Nesting: A List of Dictionaries\n",
    "customer_0 = {'city': 'Stuttgart', 'points': 5}\n",
    "customer_1 = {'city': 'Basel', 'points': 7}\n",
    "customer_2 = {'city': 'Stuttgart', 'points': 3}\n",
    "\n",
    "customers = [customer_0,customer_1,customer_2]\n",
    "\n",
    "for customer in customers:\n",
    "    print(customer)"
   ]
  },
  {
   "cell_type": "code",
   "execution_count": 11,
   "metadata": {},
   "outputs": [
    {
     "name": "stdout",
     "output_type": "stream",
     "text": [
      "You ordered a thick-crust pizza with the following toppings:\n",
      "\tmushrooms\n",
      "\textra cheese\n"
     ]
    }
   ],
   "source": [
    "#Nesting: A List in a Dictionary\n",
    "pizza = {\n",
    "    'crust': 'thick',\n",
    "    'toppings': ['mushrooms', 'extra cheese'],\n",
    "}\n",
    "\n",
    "# Summarize the order.\n",
    "print(\"You ordered a \" + pizza['crust'] + \"-crust pizza \" +\n",
    "      \"with the following toppings:\")\n",
    "for topping in pizza['toppings']:\n",
    "    print(\"\\t\" + topping)"
   ]
  },
  {
   "cell_type": "code",
   "execution_count": 12,
   "metadata": {},
   "outputs": [
    {
     "name": "stdout",
     "output_type": "stream",
     "text": [
      "\n",
      "Jen's favorite languages are:\n",
      "\tPython\n",
      "\tRuby\n",
      "\n",
      "Sarah's favorite languages are:\n",
      "\tC\n",
      "\n",
      "Edward's favorite languages are:\n",
      "\tRuby\n",
      "\tGo\n",
      "\n",
      "Phil's favorite languages are:\n",
      "\tPython\n",
      "\tHaskell\n"
     ]
    }
   ],
   "source": [
    "#Nesting: A List in a Dictionary - 2nd example\n",
    "favorite_languages = {\n",
    "    'jen': ['python', 'ruby'],\n",
    "    'sarah': ['c'],\n",
    "    'edward': ['ruby', 'go'],\n",
    "    'phil': ['python', 'haskell'],\n",
    "}\n",
    "\n",
    "for name, languages in favorite_languages.items():\n",
    "    print(\"\\n\" + name.title() + \"'s favorite languages are:\")\n",
    "    for language in languages:\n",
    "        print(\"\\t\" + language.title())"
   ]
  },
  {
   "cell_type": "code",
   "execution_count": 13,
   "metadata": {},
   "outputs": [
    {
     "name": "stdout",
     "output_type": "stream",
     "text": [
      "\n",
      "Username: aeinstein\n",
      "\tFull name: Albert Einstein\n",
      "\tLocation: Princeton\n",
      "\n",
      "Username: mcurie\n",
      "\tFull name: Marie Curie\n",
      "\tLocation: Paris\n"
     ]
    }
   ],
   "source": [
    "#Nesting: A Dictionary in a Dictionary\n",
    "users = {\n",
    "    'aeinstein': {\n",
    "        'first': 'albert',\n",
    "        'last': 'einstein',\n",
    "        'location': 'princeton',\n",
    "    },\n",
    "    \n",
    "    'mcurie': {\n",
    "        'first': 'marie',\n",
    "        'last': 'curie',\n",
    "        'location': 'paris',\n",
    "    },\n",
    "}\n",
    "\n",
    "for username, user_info in users.items():\n",
    "    print(\"\\nUsername: \" + username)\n",
    "    full_name = user_info['first'] + \" \" + user_info['last']\n",
    "    location = user_info['location']\n",
    "    print(\"\\tFull name: \" + full_name.title())\n",
    "    print(\"\\tLocation: \" + location.title())"
   ]
  }
 ],
 "metadata": {
  "kernelspec": {
   "display_name": "Python 3 (ipykernel)",
   "language": "python",
   "name": "python3"
  },
  "language_info": {
   "codemirror_mode": {
    "name": "ipython",
    "version": 3
   },
   "file_extension": ".py",
   "mimetype": "text/x-python",
   "name": "python",
   "nbconvert_exporter": "python",
   "pygments_lexer": "ipython3",
   "version": "3.11.4"
  }
 },
 "nbformat": 4,
 "nbformat_minor": 2
}
