{
 "cells": [
  {
   "cell_type": "markdown",
   "metadata": {},
   "source": [
    "# For loops and lists\n",
    "a) Pizzas: Think of at least three kinds of your favorite pizza. \n",
    "\n",
    "Store these pizza names in a list\n",
    "\n",
    "Use a for loop to print the name of each pizza.\n",
    "\n",
    "Modify your for loop to print a sentence using the name of the pizza instead of printing just the name of the pizza. \n",
    "\n",
    "Add a line at the end of your program, outside the for loop, that states how much you like pizza. "
   ]
  },
  {
   "cell_type": "code",
   "execution_count": null,
   "metadata": {},
   "outputs": [],
   "source": []
  },
  {
   "cell_type": "markdown",
   "metadata": {},
   "source": [
    "b) My Pizzas, Your Pizzas: \n",
    "\n",
    "Make a copy of the list of pizzas, and call it friend_pizzas.\n",
    "\n",
    "Add a new pizza to the original list.\n",
    "\n",
    "Add a different pizza to the list friend_pizzas.\n",
    "\n",
    "Prove that you have two separate lists. Using print statements and for loops"
   ]
  },
  {
   "cell_type": "code",
   "execution_count": null,
   "metadata": {},
   "outputs": [],
   "source": []
  },
  {
   "cell_type": "markdown",
   "metadata": {},
   "source": [
    "c) Linked pizza list: Create a pizza list which is linked to the original list.\n",
    "\n",
    "Prove, that changes to the originl list will also change the linked list and the other way round"
   ]
  },
  {
   "cell_type": "code",
   "execution_count": null,
   "metadata": {},
   "outputs": [],
   "source": []
  },
  {
   "cell_type": "markdown",
   "metadata": {},
   "source": [
    "Threes: \n",
    "\n",
    "Make a list of the multiples of 3 from 3 to 30. \n",
    "\n",
    "Use a for loop to print the numbers in your list.\n",
    "\n",
    "Print min, max and sum of your list\n",
    "\n",
    "Use a for loop to print the second half of your list\n"
   ]
  },
  {
   "cell_type": "code",
   "execution_count": null,
   "metadata": {},
   "outputs": [],
   "source": []
  }
 ],
 "metadata": {
  "kernelspec": {
   "display_name": "Python 3",
   "language": "python",
   "name": "python3"
  },
  "language_info": {
   "codemirror_mode": {
    "name": "ipython",
    "version": 3
   },
   "file_extension": ".py",
   "mimetype": "text/x-python",
   "name": "python",
   "nbconvert_exporter": "python",
   "pygments_lexer": "ipython3",
   "version": "3.7.6"
  }
 },
 "nbformat": 4,
 "nbformat_minor": 2
}
